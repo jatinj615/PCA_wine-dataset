{
 "cells": [
  {
   "cell_type": "markdown",
   "metadata": {},
   "source": [
    "# PCA"
   ]
  },
  {
   "cell_type": "markdown",
   "metadata": {},
   "source": [
    "## Importing Libraries\n"
   ]
  },
  {
   "cell_type": "code",
   "execution_count": 2,
   "metadata": {},
   "outputs": [],
   "source": [
    "import numpy as np\n",
    "import pandas as pd\n",
    "import seaborn as sns\n",
    "import matplotlib.pyplot as plt"
   ]
  },
  {
   "cell_type": "code",
   "execution_count": 9,
   "metadata": {},
   "outputs": [],
   "source": [
    "rnd_num = np.random.RandomState(42)\n",
    "X = np.dot(rnd_num.rand(2, 2), rnd_num.randn(2, 500)).T"
   ]
  },
  {
   "cell_type": "code",
   "execution_count": 10,
   "metadata": {},
   "outputs": [
    {
     "data": {
      "text/plain": [
       "array([[-7.06275032e-01, -5.60911546e-01],\n",
       "       [-5.50810755e-01, -4.63008578e-01],\n",
       "       [ 2.82811768e-02,  8.01332565e-01],\n",
       "       [-5.33973291e-01,  4.45221679e-02],\n",
       "       [-1.29706786e-01, -3.14604522e-01],\n",
       "       [-5.86785660e-01, -1.00304672e-01],\n",
       "       [ 8.35586558e-02, -1.77307670e-01],\n",
       "       [-2.22196567e-01, -3.70986829e-01],\n",
       "       [-1.36546749e-01,  3.40666414e-02],\n",
       "       [-1.57943397e+00, -1.94383023e+00],\n",
       "       [-1.19439569e+00, -1.60791845e+00],\n",
       "       [ 5.07562007e-01,  4.06303013e-02],\n",
       "       [ 9.68832484e-02, -4.41507920e-01],\n",
       "       [-8.11677523e-01, -3.55194597e-01],\n",
       "       [-2.45654801e-01, -6.05201995e-01],\n",
       "       [ 1.85390092e-01, -5.83973477e-01],\n",
       "       [-1.03818322e+00,  7.34423846e-02],\n",
       "       [ 4.32018026e-01,  1.60020305e-01],\n",
       "       [-6.04673866e-01, -3.47255098e-01],\n",
       "       [ 8.85096246e-03, -7.01313307e-01],\n",
       "       [-9.29534570e-01, -8.55416426e-01],\n",
       "       [-1.67438227e+00, -9.99313319e-01],\n",
       "       [-1.97842115e+00, -1.81686241e+00],\n",
       "       [ 1.86429027e-01,  3.03795135e-01],\n",
       "       [ 2.19586118e-02, -2.84178803e-01],\n",
       "       [-9.68997765e-01, -7.54894878e-01],\n",
       "       [ 3.81755720e-01, -5.81468015e-02],\n",
       "       [-8.85878402e-01,  3.61173328e-01],\n",
       "       [-6.78782621e-02, -4.94391188e-02],\n",
       "       [-1.54748560e+00, -1.49922311e+00],\n",
       "       [-3.11633844e-01,  2.11870676e-01],\n",
       "       [-4.12192331e-01, -8.65274539e-01],\n",
       "       [-7.39779500e-01, -3.62206875e-01],\n",
       "       [-1.09957754e+00, -1.66468410e+00],\n",
       "       [ 4.59238010e-01, -3.69798414e-01],\n",
       "       [-4.74726923e-01, -2.01259980e-01],\n",
       "       [ 1.07108981e+00,  1.04084724e+00],\n",
       "       [-1.00984417e+00, -5.50868050e-01],\n",
       "       [ 4.60377490e-01,  2.32517924e-01],\n",
       "       [ 1.25774450e+00,  6.42601204e-01],\n",
       "       [-2.90359359e+00, -2.56194009e+00],\n",
       "       [-1.02723026e+00, -1.00398971e+00],\n",
       "       [ 3.76103027e-01,  8.28433522e-03],\n",
       "       [ 2.02896531e-01,  6.52252222e-01],\n",
       "       [ 4.81552527e-01,  4.73716132e-01],\n",
       "       [-1.23454663e+00, -1.65211557e+00],\n",
       "       [ 2.03704598e-01,  2.89065213e-01],\n",
       "       [-2.92233338e-01, -3.75075394e-01],\n",
       "       [ 8.56692666e-01,  2.03599836e-01],\n",
       "       [ 4.70978845e-01,  6.00054534e-01],\n",
       "       [ 7.07114364e-01,  9.56794102e-01],\n",
       "       [-4.27755577e-02,  4.35117765e-01],\n",
       "       [-7.77894844e-01, -9.06211746e-01],\n",
       "       [-5.27051698e-01, -4.85296215e-01],\n",
       "       [ 4.99082740e-01,  4.78624947e-01],\n",
       "       [-3.48551808e-02,  4.62067192e-01],\n",
       "       [ 9.60231261e-02, -1.77276463e-01],\n",
       "       [ 1.90357650e+00,  1.10655505e+00],\n",
       "       [ 4.13823886e-01, -2.88324304e-01],\n",
       "       [-7.57982607e-01, -1.07079276e+00],\n",
       "       [ 1.44633478e+00,  1.31388089e+00],\n",
       "       [ 1.20003206e-01,  7.48461700e-01],\n",
       "       [-1.96464483e+00, -1.27285152e+00],\n",
       "       [-5.82538747e-01,  1.31080579e-01],\n",
       "       [-1.64314144e+00, -8.55250076e-01],\n",
       "       [-5.75812128e-01, -6.82660282e-01],\n",
       "       [ 1.52867770e-01,  2.75565713e-01],\n",
       "       [ 2.16986933e+00,  2.12944687e+00],\n",
       "       [ 2.97396242e-01,  1.69493402e-01],\n",
       "       [ 3.77719814e-01,  1.01414329e+00],\n",
       "       [-1.92671891e-01, -1.42110686e+00],\n",
       "       [-1.79432251e+00, -7.22087258e-01],\n",
       "       [ 2.56604750e-01,  2.04770581e-01],\n",
       "       [ 6.20882320e-01,  2.42613419e-01],\n",
       "       [-1.37134500e+00, -8.17999868e-01],\n",
       "       [ 3.42959034e-01, -7.70170343e-01],\n",
       "       [ 2.39537442e-01,  4.18452551e-02],\n",
       "       [-2.61067176e-01,  1.27886059e-02],\n",
       "       [ 1.15512538e+00,  1.46062972e+00],\n",
       "       [ 1.96466720e+00,  9.79998884e-01],\n",
       "       [-1.29910440e-01, -4.82936643e-01],\n",
       "       [ 4.80587198e-02, -2.18683756e-01],\n",
       "       [-9.38661610e-02,  3.95068505e-01],\n",
       "       [-6.84828721e-01, -2.68122721e-01],\n",
       "       [ 5.90995690e-01,  1.09306322e-01],\n",
       "       [-6.21651895e-01, -1.36793194e-01],\n",
       "       [ 1.04398482e-01,  1.13903913e-01],\n",
       "       [-9.13193583e-02,  4.23088582e-01],\n",
       "       [ 1.92425924e-01, -2.27153275e-01],\n",
       "       [ 1.94494718e-01, -4.00970561e-02],\n",
       "       [ 8.39543834e-01,  3.34111298e-01],\n",
       "       [-1.03302495e+00, -1.37660972e+00],\n",
       "       [-1.45665038e-01,  5.51953292e-02],\n",
       "       [-8.32748995e-01, -3.94854325e-01],\n",
       "       [-4.20480764e-01, -2.62236910e-01],\n",
       "       [ 2.70842684e-01,  5.41577808e-02],\n",
       "       [ 1.89566782e-01, -5.82865151e-01],\n",
       "       [-1.03426432e+00, -8.59971923e-01],\n",
       "       [ 6.98386453e-01,  2.69732012e-01],\n",
       "       [ 9.88339283e-01,  2.24302005e-01],\n",
       "       [ 3.32650508e-01,  1.29446149e-01],\n",
       "       [ 1.93562989e+00,  1.41932252e+00],\n",
       "       [-2.92001701e-02,  9.17441184e-01],\n",
       "       [-1.11792464e+00, -6.17333197e-01],\n",
       "       [-1.59459183e+00, -8.76320642e-01],\n",
       "       [ 1.39442775e+00,  8.41125660e-01],\n",
       "       [-9.65420079e-02, -1.01278735e+00],\n",
       "       [-6.27756519e-02, -5.26842310e-02],\n",
       "       [ 2.88728808e-01,  2.11693742e-01],\n",
       "       [-1.47435545e-01,  1.12929474e+00],\n",
       "       [ 2.25316450e+00,  1.32336311e+00],\n",
       "       [ 2.35794004e-01,  2.98090185e-01],\n",
       "       [ 9.10022459e-02,  4.00813168e-02],\n",
       "       [ 2.52279901e-01, -4.20978897e-01],\n",
       "       [ 8.85335351e-01,  1.12449963e+00],\n",
       "       [ 4.94478832e-01,  6.84440495e-01],\n",
       "       [-4.55242174e-01,  1.05806354e-01],\n",
       "       [ 1.07629627e-01, -3.83417576e-01],\n",
       "       [ 2.31467036e+00,  2.15352687e+00],\n",
       "       [ 7.54060622e-01, -2.20699360e-01],\n",
       "       [ 1.73446684e+00,  1.38335053e+00],\n",
       "       [ 3.34393453e-01,  1.29735665e+00],\n",
       "       [-1.31182705e+00, -1.31750191e+00],\n",
       "       [-3.31688643e-01, -4.89829914e-01],\n",
       "       [ 9.03019055e-02,  1.06304387e-01],\n",
       "       [ 8.51691699e-01,  2.86505907e-01],\n",
       "       [-2.18983600e+00, -2.14828455e+00],\n",
       "       [ 1.47984496e+00,  9.65865958e-01],\n",
       "       [-5.48095729e-01, -8.72192652e-01],\n",
       "       [-2.28462575e-01,  9.11108158e-02],\n",
       "       [-1.30658337e+00, -1.27891784e+00],\n",
       "       [-9.92783297e-01,  1.43848608e-01],\n",
       "       [ 4.89240270e-01, -8.05386109e-02],\n",
       "       [-5.09205182e-02, -1.91854656e-01],\n",
       "       [-9.21689447e-01, -1.76756362e-01],\n",
       "       [-1.69225798e+00, -1.67629512e+00],\n",
       "       [-2.34042447e-01, -3.45210650e-02],\n",
       "       [ 2.07634004e+00,  1.95599447e+00],\n",
       "       [-8.48864173e-01, -1.33207455e+00],\n",
       "       [-1.35990672e+00, -7.64718416e-01],\n",
       "       [-1.36294914e-01,  4.31164607e-02],\n",
       "       [ 3.35418319e-02,  4.09021327e-01],\n",
       "       [-3.02725638e+00, -2.51995450e+00],\n",
       "       [-5.46182883e-01, -9.99070324e-01],\n",
       "       [-2.40647057e-02,  2.43807148e-01],\n",
       "       [ 7.73126026e-01,  6.34180829e-01],\n",
       "       [ 1.85164863e+00,  1.29025250e+00],\n",
       "       [ 1.20080024e+00,  9.28025703e-01],\n",
       "       [-5.10332865e-01, -6.58746472e-01],\n",
       "       [-9.65001685e-01, -4.92422824e-01],\n",
       "       [ 2.55629738e+00,  1.75509095e+00],\n",
       "       [-2.11253453e-01, -4.87449292e-01],\n",
       "       [ 7.12050184e-01,  1.37407453e+00],\n",
       "       [ 1.54533373e-01,  3.32400139e-01],\n",
       "       [-2.57868937e-01, -7.53441820e-01],\n",
       "       [ 1.08660158e-01,  3.94170679e-01],\n",
       "       [-9.10446066e-01, -1.05688871e+00],\n",
       "       [-2.25111858e-01,  2.48759417e-01],\n",
       "       [ 4.02801523e-01,  8.28476922e-01],\n",
       "       [-8.24020157e-01, -9.26060335e-01],\n",
       "       [-3.16889674e-01,  2.78434315e-01],\n",
       "       [ 2.55787758e-01,  3.65868497e-01],\n",
       "       [ 6.54840216e-02,  4.49098782e-01],\n",
       "       [ 2.14029272e+00,  2.28881913e+00],\n",
       "       [-2.61222262e+00, -1.76664818e+00],\n",
       "       [ 7.55406747e-01,  1.01709531e-01],\n",
       "       [ 8.51512179e-01,  9.48602989e-02],\n",
       "       [-2.27675544e+00, -1.83842084e+00],\n",
       "       [-3.54675682e-01, -2.61590820e-01],\n",
       "       [-2.25359044e-01,  2.73549530e-02],\n",
       "       [-1.23450970e+00, -6.40082829e-01],\n",
       "       [-4.29668140e-01,  1.39846568e-01],\n",
       "       [-1.05097061e+00, -6.55338346e-01],\n",
       "       [ 2.21031541e+00,  2.11298971e+00],\n",
       "       [ 7.90438233e-01,  3.66424610e-01],\n",
       "       [ 2.22769810e+00,  2.75237460e+00],\n",
       "       [ 9.20441479e-01,  8.90019812e-01],\n",
       "       [-1.39444556e+00, -1.30335056e+00],\n",
       "       [-8.99761125e-01, -1.09789533e+00],\n",
       "       [ 6.45960672e-01,  6.46135118e-01],\n",
       "       [-1.24559017e+00, -8.95210587e-01],\n",
       "       [ 9.45279638e-01,  9.49486596e-01],\n",
       "       [-5.12343181e-02,  2.02534236e-01],\n",
       "       [-3.83624854e-01, -2.77699979e-01],\n",
       "       [ 3.58761593e-01, -1.94225655e-01],\n",
       "       [-1.45003574e-01, -8.42896991e-01],\n",
       "       [-5.10413461e-01, -5.42941698e-01],\n",
       "       [ 1.42294714e+00,  1.32092135e+00],\n",
       "       [-9.47595675e-01, -4.90472409e-01],\n",
       "       [ 1.18999643e-01, -5.43138162e-01],\n",
       "       [ 6.28733056e-01,  4.81832489e-01],\n",
       "       [-1.49973411e-01,  9.67373855e-02],\n",
       "       [-2.09807392e-02, -4.51735988e-01],\n",
       "       [-1.13187536e+00, -6.36463911e-01],\n",
       "       [ 9.00287207e-01,  5.95785044e-01],\n",
       "       [-6.03877338e-01, -9.47340566e-01],\n",
       "       [-3.62954533e-01, -5.10343909e-02],\n",
       "       [ 1.20734438e+00,  1.03848915e+00],\n",
       "       [-2.63983482e-01,  3.71125623e-01],\n",
       "       [-9.44353159e-01, -7.18105868e-02],\n",
       "       [-1.99590207e+00, -1.94033489e+00],\n",
       "       [ 2.24889229e-01, -3.23689249e-01],\n",
       "       [-1.02442113e+00, -3.89537200e-01],\n",
       "       [ 1.86074138e+00,  1.42661063e+00],\n",
       "       [-1.78641405e+00, -8.69352917e-01],\n",
       "       [ 3.05584785e+00,  3.83577411e+00],\n",
       "       [ 4.14438725e-01,  5.44215792e-01],\n",
       "       [ 3.33368351e-01,  7.73329044e-01],\n",
       "       [-1.60750438e-01,  3.72103077e-01],\n",
       "       [ 6.23436571e-01,  7.15760671e-01],\n",
       "       [-1.53860830e-01, -2.53305511e-01],\n",
       "       [ 1.33318931e+00,  1.21606190e+00],\n",
       "       [-1.80856188e-01, -4.97320024e-01],\n",
       "       [ 5.41959658e-02, -8.33703608e-02],\n",
       "       [-5.27479453e-01, -5.72962712e-01],\n",
       "       [-2.34738693e-02,  2.58403932e-02],\n",
       "       [ 1.15956404e+00,  1.87858419e+00],\n",
       "       [-2.32524728e+00, -2.39063363e+00],\n",
       "       [-1.02470720e+00, -3.04764339e-01],\n",
       "       [ 1.02605014e-01, -7.35536892e-01],\n",
       "       [-1.43132006e-02, -2.43161223e-01],\n",
       "       [ 2.32940096e-01,  6.86962055e-01],\n",
       "       [ 4.16008499e-02,  5.80882150e-02],\n",
       "       [-7.32077573e-02, -5.80819911e-01],\n",
       "       [-7.81067186e-01, -8.46729694e-01],\n",
       "       [-4.85408816e-01,  3.15227079e-02],\n",
       "       [-8.73587192e-02, -4.17379526e-01],\n",
       "       [-8.49080571e-01, -4.27264788e-01],\n",
       "       [ 4.05200218e-01,  2.77762287e-01],\n",
       "       [-1.86272106e+00, -1.49623363e+00],\n",
       "       [ 1.78142606e+00,  2.18546684e+00],\n",
       "       [ 6.86733294e-01,  7.46949376e-01],\n",
       "       [-5.15086014e-01, -1.32911773e+00],\n",
       "       [ 1.00409300e+00,  7.24779724e-01],\n",
       "       [ 1.33552480e+00,  5.12626723e-01],\n",
       "       [ 1.28364662e+00,  1.23123728e+00],\n",
       "       [-2.04697628e+00, -1.68217536e+00],\n",
       "       [-1.25948553e+00, -8.50015987e-01],\n",
       "       [-4.04885965e-01, -4.40531372e-03],\n",
       "       [ 3.49065188e-01,  6.49347186e-01],\n",
       "       [ 4.25866777e-02, -5.68708734e-01],\n",
       "       [-8.15259159e-01, -6.79325569e-01],\n",
       "       [-3.24238338e-04, -2.35847582e-01],\n",
       "       [-9.62851369e-01, -9.30449442e-01],\n",
       "       [ 7.98547170e-02,  9.26211487e-01],\n",
       "       [-1.18565093e+00, -5.45665441e-01],\n",
       "       [-1.34998268e+00, -1.47566083e+00],\n",
       "       [-9.41289770e-01, -1.37328072e-01],\n",
       "       [-1.32944029e-01,  9.69190677e-01],\n",
       "       [ 1.38841199e+00,  1.38652992e+00],\n",
       "       [-1.47167211e+00, -1.68053531e+00],\n",
       "       [ 2.32127820e+00,  1.22144145e+00],\n",
       "       [ 9.43513438e-01,  1.22270023e+00],\n",
       "       [-8.93242586e-02, -4.07356048e-01],\n",
       "       [-6.49824840e-01, -1.88990035e-01],\n",
       "       [ 9.55926152e-01,  9.86273885e-01],\n",
       "       [-8.94439766e-01, -1.02311796e+00],\n",
       "       [ 9.37018424e-02,  2.94700107e-02],\n",
       "       [ 1.21992434e+00, -8.39971728e-01],\n",
       "       [-4.74999790e-01, -8.07352621e-01],\n",
       "       [ 9.98033688e-01,  5.03143871e-01],\n",
       "       [-1.13586475e+00, -1.33433226e+00],\n",
       "       [ 5.78139465e-01,  1.17396903e+00],\n",
       "       [ 1.14788018e+00,  1.32499997e-02],\n",
       "       [-7.60880866e-01, -6.97449047e-01],\n",
       "       [ 1.77208837e+00,  1.18073902e+00],\n",
       "       [ 1.21268456e+00,  1.47870502e+00],\n",
       "       [-1.07253319e+00, -1.38776790e+00],\n",
       "       [ 1.03689057e+00,  1.23002508e+00],\n",
       "       [ 9.28454121e-01,  5.89718511e-01],\n",
       "       [ 2.23549260e-01, -3.46206577e-01],\n",
       "       [-1.31975882e+00, -6.01771407e-01],\n",
       "       [-6.16743874e-01, -2.89596348e-01],\n",
       "       [-4.60124808e-01, -5.87534249e-01],\n",
       "       [-4.46212447e-02,  6.53449950e-03],\n",
       "       [ 4.45766442e-01,  8.95233985e-02],\n",
       "       [ 2.11459684e-01,  1.89476221e-01],\n",
       "       [-1.02153648e+00, -3.14739587e-01],\n",
       "       [ 9.55486463e-01,  1.38856337e+00],\n",
       "       [ 1.16881039e-01, -5.40541109e-01],\n",
       "       [ 1.33110736e+00,  1.89649081e+00],\n",
       "       [ 2.96378501e-01, -7.81897892e-01],\n",
       "       [ 7.35972115e-01,  3.88128803e-01],\n",
       "       [ 6.56897467e-01,  7.05536681e-01],\n",
       "       [ 3.85351818e-02,  1.63679046e-01],\n",
       "       [-1.81232527e+00, -1.45016063e+00],\n",
       "       [ 3.30494055e-01,  1.04850365e-01],\n",
       "       [ 1.28030268e-02, -2.36539701e-01],\n",
       "       [ 3.74531397e-02, -2.68828457e-01],\n",
       "       [-8.95613066e-01, -1.42432779e-01],\n",
       "       [-8.94059296e-01, -3.85850497e-01],\n",
       "       [ 7.41725042e-01,  1.23273265e-01],\n",
       "       [ 2.99330594e-01,  6.34821630e-01],\n",
       "       [ 7.63008462e-01,  6.32927562e-01],\n",
       "       [ 3.31372160e-01,  6.11963183e-01],\n",
       "       [ 2.64110849e-01,  4.78698263e-01],\n",
       "       [ 5.81547948e-01, -4.51077648e-02],\n",
       "       [-7.00421379e-01, -7.18983683e-01],\n",
       "       [ 3.71274833e-01,  6.04557910e-01],\n",
       "       [-2.10883579e-01,  1.70042313e-01],\n",
       "       [-4.20910265e-01, -2.75414693e-01],\n",
       "       [-2.49990549e-01, -9.92055810e-02],\n",
       "       [ 6.89722517e-01,  1.06822523e+00],\n",
       "       [-6.76720382e-01, -7.19633597e-01],\n",
       "       [ 1.39877523e+00,  1.15224103e+00],\n",
       "       [-9.26245221e-01, -6.83568048e-01],\n",
       "       [-2.59191889e-01, -2.71213617e-01],\n",
       "       [-6.52259534e-03,  5.41049270e-01],\n",
       "       [ 1.68481411e+00,  1.47044535e+00],\n",
       "       [ 4.91559434e-01,  7.13153310e-01],\n",
       "       [ 1.46994355e+00,  1.57332507e+00],\n",
       "       [-1.40447672e+00, -8.73968636e-01],\n",
       "       [ 5.09307255e-01,  6.59057351e-01],\n",
       "       [ 7.29577377e-01,  3.05471637e-01],\n",
       "       [ 1.99641870e-01,  2.86547814e-01],\n",
       "       [ 9.64223641e-01,  5.42594939e-01],\n",
       "       [-4.55464650e-01, -2.38678661e-01],\n",
       "       [ 1.56279696e+00,  1.27936914e+00],\n",
       "       [ 1.87913886e+00,  7.77322283e-01],\n",
       "       [ 4.38727169e-01,  1.31439843e+00],\n",
       "       [-8.00339490e-01, -1.00310249e+00],\n",
       "       [ 9.26991068e-01, -1.86977608e-02],\n",
       "       [ 1.93548082e+00,  1.79335441e+00],\n",
       "       [-2.00581069e-01,  2.66477705e-01],\n",
       "       [-1.65719708e-01,  2.05303522e-01],\n",
       "       [-3.25560573e-02,  2.91252359e-01],\n",
       "       [-1.28277524e+00, -8.13831269e-01],\n",
       "       [-1.20943331e+00, -1.20674355e+00],\n",
       "       [-9.26259144e-01, -5.45648912e-01],\n",
       "       [-9.83580357e-01, -9.55326797e-01],\n",
       "       [ 3.32246042e-01,  6.93017335e-01],\n",
       "       [ 1.67592408e-01,  3.25695244e-02],\n",
       "       [ 1.16490118e+00,  3.23961328e-01],\n",
       "       [-1.06952136e+00, -8.32925606e-01],\n",
       "       [ 1.09046878e+00,  8.91536278e-01],\n",
       "       [-4.14579717e-01, -5.40749195e-01],\n",
       "       [-3.54980381e-01, -6.31472218e-01],\n",
       "       [ 7.32831183e-01,  5.82363977e-01],\n",
       "       [-9.75638079e-01, -4.92813018e-01],\n",
       "       [ 1.73691859e-01, -1.42146494e-01],\n",
       "       [-1.81742473e-02, -2.45149159e-01],\n",
       "       [ 5.55092473e-01,  4.64669276e-01],\n",
       "       [-2.67448915e-01, -8.86875703e-01],\n",
       "       [ 1.80713732e+00,  4.39631304e-01],\n",
       "       [-8.75394711e-01, -9.07685270e-01],\n",
       "       [-5.84770923e-01, -4.74127854e-01],\n",
       "       [-4.75981257e-01, -1.45465909e-01],\n",
       "       [ 2.44800488e-02,  7.47410723e-01],\n",
       "       [-2.84745123e-01,  2.46224437e-01],\n",
       "       [ 1.07051163e+00,  5.94740799e-01],\n",
       "       [ 1.34337138e+00,  8.36477171e-01],\n",
       "       [-9.18104134e-01, -1.07552753e+00],\n",
       "       [-7.98266264e-01, -5.11848229e-01],\n",
       "       [ 3.40067273e-01,  7.09205475e-02],\n",
       "       [-4.04135301e-01, -9.43649796e-02],\n",
       "       [ 2.91906158e-01, -2.26618037e-01],\n",
       "       [ 3.87437924e-01,  5.01640090e-01],\n",
       "       [-8.66967400e-01,  2.14542524e-01],\n",
       "       [ 1.43050030e+00,  8.46815348e-01],\n",
       "       [ 1.85782375e+00,  1.36916795e+00],\n",
       "       [-3.24100362e-01,  1.38330072e-01],\n",
       "       [-5.18866583e-01, -5.25791783e-01],\n",
       "       [ 3.55707941e-01,  3.35170081e-01],\n",
       "       [ 3.22689214e-01,  2.09442956e-01],\n",
       "       [ 6.62671079e-01,  4.65741428e-01],\n",
       "       [ 1.62160704e+00,  6.37587523e-01],\n",
       "       [-1.59046217e-01, -8.79896599e-02],\n",
       "       [-5.72432272e-01, -1.13375686e-01],\n",
       "       [-7.67827024e-01,  2.36487171e-01],\n",
       "       [-3.35620237e-01,  2.64602963e-01],\n",
       "       [ 7.74958926e-01,  1.55628477e+00],\n",
       "       [ 1.41870939e+00,  5.12633523e-01],\n",
       "       [-1.65381392e-01,  3.28661026e-01],\n",
       "       [ 2.81427344e-01,  2.68177793e-01],\n",
       "       [ 8.04555569e-01,  1.59309077e+00],\n",
       "       [ 8.27082351e-01,  1.19772268e-01],\n",
       "       [ 2.08788129e+00,  8.98098234e-01],\n",
       "       [-7.29201130e-01, -7.56560880e-01],\n",
       "       [-1.26080124e+00, -1.84768588e+00],\n",
       "       [ 7.95782336e-01,  2.40246277e-01],\n",
       "       [ 3.63958357e-01, -1.47460384e-01],\n",
       "       [ 1.81201958e+00,  1.21563435e+00],\n",
       "       [ 6.83150203e-01,  5.99736866e-01],\n",
       "       [ 3.61117118e-01,  1.15825243e+00],\n",
       "       [ 9.17515855e-01,  1.04930502e+00],\n",
       "       [ 8.37986792e-01,  2.41444824e-01],\n",
       "       [ 4.43551810e-01, -1.66445478e-01],\n",
       "       [ 6.66516144e-01,  6.63765756e-01],\n",
       "       [ 5.19622585e-01, -3.27828857e-01],\n",
       "       [ 1.79762083e+00,  2.04062545e+00],\n",
       "       [ 1.75578597e+00,  1.69078423e+00],\n",
       "       [ 4.41012666e-01,  4.49219430e-02],\n",
       "       [-8.00519160e-01, -1.35405075e+00],\n",
       "       [ 6.46562321e-01,  1.07885777e+00],\n",
       "       [ 1.10414557e+00,  6.38444356e-01],\n",
       "       [-3.13060561e-01,  4.17008571e-01],\n",
       "       [-2.46674136e-01, -9.46401983e-01],\n",
       "       [-5.98442828e-01, -6.74214503e-01],\n",
       "       [ 2.92920903e-02,  2.10466886e-02],\n",
       "       [ 1.23303859e+00,  7.99745564e-01],\n",
       "       [ 1.31130427e-02, -2.15042120e-01],\n",
       "       [ 2.77430178e-01,  4.83722011e-01],\n",
       "       [-1.69270137e+00, -1.59558110e+00],\n",
       "       [ 6.56147112e-01,  3.42530108e-01],\n",
       "       [ 6.58726586e-01,  4.74480255e-01],\n",
       "       [ 2.24931520e+00,  1.67161690e+00],\n",
       "       [-2.60808502e-02,  3.36643728e-01],\n",
       "       [-2.12874231e-01, -6.92034995e-01],\n",
       "       [-3.37494668e-01, -9.73666621e-01],\n",
       "       [ 1.97824863e+00,  1.87960748e+00],\n",
       "       [ 3.38661036e-02,  1.86202365e-01],\n",
       "       [-1.50684800e-02, -3.80849007e-01],\n",
       "       [ 1.15890455e+00,  1.49935625e+00],\n",
       "       [ 2.20736754e-01,  1.96388266e-01],\n",
       "       [ 1.72632833e-02,  5.95977123e-01],\n",
       "       [ 2.09812513e-01,  1.65616740e-01],\n",
       "       [ 1.79254984e+00,  2.15119375e+00],\n",
       "       [-3.18477213e-01,  6.70366769e-01],\n",
       "       [ 3.31691098e-02, -1.02636825e-01],\n",
       "       [-3.01722576e-01,  2.92050784e-01],\n",
       "       [ 1.37786711e+00,  1.18783609e+00],\n",
       "       [-9.35508155e-01,  8.99612451e-02],\n",
       "       [-8.92777544e-01, -1.04092143e+00],\n",
       "       [ 6.15574522e-01,  7.28006602e-01],\n",
       "       [ 1.88478852e+00,  1.71197455e+00],\n",
       "       [-7.21228210e-01, -1.32674860e+00],\n",
       "       [-9.71013917e-01, -1.19851297e+00],\n",
       "       [ 1.02466868e+00, -3.66534960e-01],\n",
       "       [-1.47755120e+00, -1.06406998e+00],\n",
       "       [-1.82168792e+00, -7.91097257e-01],\n",
       "       [ 9.81021022e-01,  1.36313464e+00],\n",
       "       [-4.49558666e-01, -2.46322091e-01],\n",
       "       [-3.60918789e-01,  5.80767023e-01],\n",
       "       [ 1.56541244e-01, -5.86162309e-01],\n",
       "       [-4.06200235e-01, -1.10091226e+00],\n",
       "       [-5.57082466e-01, -3.78351037e-01],\n",
       "       [-1.07335579e+00, -4.85331509e-01],\n",
       "       [ 8.17212169e-01,  4.98371624e-01],\n",
       "       [-1.56184448e-01, -1.12410664e+00],\n",
       "       [-1.27666943e-01, -1.24607801e-01],\n",
       "       [ 1.26704805e+00,  1.50641133e-01],\n",
       "       [-7.66525660e-01, -1.50419075e-01],\n",
       "       [-1.31303285e+00, -6.44920891e-01],\n",
       "       [-1.00982959e+00, -1.10220295e+00],\n",
       "       [-2.35803054e-01, -4.03437926e-01],\n",
       "       [-1.65371663e-01, -6.29660655e-01],\n",
       "       [-2.52822408e-01, -1.90298732e-01],\n",
       "       [ 6.92443220e-01,  9.09919342e-01],\n",
       "       [-1.55905039e+00, -1.47079019e+00],\n",
       "       [ 1.56139331e+00,  1.23328093e+00],\n",
       "       [-2.76705052e-01, -4.37325864e-01],\n",
       "       [ 7.65266447e-01,  8.85005191e-02],\n",
       "       [ 2.85746726e-01,  1.26829861e-01],\n",
       "       [ 4.65020375e-02, -4.84351918e-01],\n",
       "       [ 3.34322028e-01, -6.41719211e-02],\n",
       "       [-2.30103951e-02, -6.08814833e-01],\n",
       "       [ 1.34691411e+00,  1.82293833e+00],\n",
       "       [ 1.27685194e+00,  8.21521145e-01],\n",
       "       [-7.52397874e-02, -3.94545767e-01],\n",
       "       [ 7.54204077e-01,  5.81083113e-01],\n",
       "       [-1.27384369e-01, -1.35944487e-01],\n",
       "       [ 1.28637806e+00,  7.00389981e-01],\n",
       "       [-4.13025769e-01,  4.46383134e-02],\n",
       "       [ 1.99589686e+00,  1.63263932e+00],\n",
       "       [-2.36872701e-01, -4.12364524e-01],\n",
       "       [-1.57592539e+00, -1.27804112e+00],\n",
       "       [ 1.87728046e-02, -1.24645381e-01],\n",
       "       [-1.50964738e+00, -2.09270970e+00],\n",
       "       [ 2.31712008e-01, -6.05852285e-01],\n",
       "       [-1.08509703e-01,  6.09844801e-01],\n",
       "       [ 1.91913430e-01,  9.36994903e-01],\n",
       "       [-1.88968739e+00, -1.31348246e+00],\n",
       "       [-2.14070375e-01,  1.51259189e-01],\n",
       "       [-2.18784108e+00, -1.22324270e+00],\n",
       "       [-3.52674690e-01,  1.30550524e+00],\n",
       "       [ 1.14226281e+00,  1.27475074e+00],\n",
       "       [ 6.99161183e-01,  3.76791030e-01],\n",
       "       [ 4.66003606e-02, -4.44746035e-01],\n",
       "       [-1.52099665e+00, -1.75479745e+00],\n",
       "       [ 3.08454255e-02,  1.20371341e-01],\n",
       "       [-2.86708683e-01, -5.55800854e-01],\n",
       "       [-1.63396496e+00, -1.73454595e+00],\n",
       "       [ 1.18713479e+00,  4.26734714e-01],\n",
       "       [ 4.29037764e-01, -2.66446207e-01],\n",
       "       [ 4.21828427e-01,  1.10269538e+00],\n",
       "       [ 3.55770211e-01,  6.61450397e-01],\n",
       "       [ 1.95126443e-01,  1.18914211e-01],\n",
       "       [-1.38680810e+00, -1.38991758e-01],\n",
       "       [-2.06017539e-01, -9.13417047e-02],\n",
       "       [-9.70957668e-01, -1.03873047e+00],\n",
       "       [-3.81783400e-01,  5.15289280e-01],\n",
       "       [-6.54026382e-02,  2.26195812e-01],\n",
       "       [ 1.32059600e+00,  3.16942390e-01],\n",
       "       [ 5.37969005e-01,  2.44319257e-01],\n",
       "       [-8.70982202e-01, -9.82888405e-01],\n",
       "       [ 2.64486663e-02, -6.69419486e-01],\n",
       "       [ 1.67727788e+00,  1.51569236e+00],\n",
       "       [ 1.59421561e+00,  1.95122121e+00],\n",
       "       [-4.67128220e-01, -9.88044764e-01],\n",
       "       [-4.04197485e-01,  2.47958800e-02]])"
      ]
     },
     "execution_count": 10,
     "metadata": {},
     "output_type": "execute_result"
    }
   ],
   "source": [
    "X"
   ]
  },
  {
   "cell_type": "code",
   "execution_count": 13,
   "metadata": {},
   "outputs": [
    {
     "data": {
      "image/png": "[encoded data removed]",
      "text/plain": [
       "<Figure size 432x288 with 1 Axes>"
      ]
     },
     "metadata": {},
     "output_type": "display_data"
    }
   ],
   "source": [
    "X[:, 0] = -X[:, 0]\n",
    "plt.scatter(X[:, 0], X[:, 1])\n",
    "plt.axis('equal');"
   ]
  },
  {
   "cell_type": "markdown",
   "metadata": {},
   "source": [
    "## Principal Component Identification"
   ]
  },
  {
   "cell_type": "code",
   "execution_count": 14,
   "metadata": {},
   "outputs": [],
   "source": [
    "from sklearn.decomposition import PCA"
   ]
  },
  {
   "cell_type": "code",
   "execution_count": 15,
   "metadata": {},
   "outputs": [
    {
     "data": {
      "text/plain": [
       "PCA(copy=True, iterated_power='auto', n_components=2, random_state=None,\n",
       "  svd_solver='auto', tol=0.0, whiten=False)"
      ]
     },
     "execution_count": 15,
     "metadata": {},
     "output_type": "execute_result"
    }
   ],
   "source": [
    "pca = PCA(n_components=2)\n",
    "pca.fit(X)"
   ]
  },
  {
   "cell_type": "code",
   "execution_count": 16,
   "metadata": {},
   "outputs": [
    {
     "data": {
      "text/plain": [
       "array([[ 0.74062812,  0.67191517],\n",
       "       [ 0.67191517, -0.74062812]])"
      ]
     },
     "execution_count": 16,
     "metadata": {},
     "output_type": "execute_result"
    }
   ],
   "source": [
    "pca.components_"
   ]
  },
  {
   "cell_type": "code",
   "execution_count": 17,
   "metadata": {},
   "outputs": [
    {
     "data": {
      "text/plain": [
       "array([1.62123504, 0.12581594])"
      ]
     },
     "execution_count": 17,
     "metadata": {},
     "output_type": "execute_result"
    }
   ],
   "source": [
    "pca.explained_variance_"
   ]
  },
  {
   "cell_type": "code",
   "execution_count": 18,
   "metadata": {},
   "outputs": [
    {
     "data": {
      "text/plain": [
       "array([0.92798382, 0.07201618])"
      ]
     },
     "execution_count": 18,
     "metadata": {},
     "output_type": "execute_result"
    }
   ],
   "source": [
    "pca.explained_variance_ratio_"
   ]
  },
  {
   "cell_type": "code",
   "execution_count": 19,
   "metadata": {},
   "outputs": [
    {
     "data": {
      "image/png": "[encoded data removed]",
      "text/plain": [
       "<Figure size 432x288 with 1 Axes>"
      ]
     },
     "metadata": {},
     "output_type": "display_data"
    }
   ],
   "source": [
    "plt.scatter(X[:, 0], X[:, 1], alpha=0.3)\n",
    "\n",
    "\n",
    "# plot data\n",
    "\n",
    "for k, v in zip(pca.explained_variance_, pca.components_):\n",
    "    vec = v * 3 * np.sqrt(k)\n",
    "    \n",
    "    ax = plt.gca()\n",
    "    arrowprops=dict(arrowstyle='<-',\n",
    "                    linewidth=1,\n",
    "                    shrinkA=0, shrinkB=0)\n",
    "    ax.annotate('', pca.mean_, pca.mean_ + vec, arrowprops=arrowprops)\n",
    "    ax.text(-0.90, 1.2,'PC1', ha='center', va='center', rotation=-42, size=12)\n",
    "    ax.text(-0.1,-0.6,'PC2', ha='center', va='center', rotation=50, size=12)\n",
    "plt.axis('equal');"
   ]
  },
  {
   "cell_type": "markdown",
   "metadata": {},
   "source": [
    "## Dimentionality Reduction With PCA"
   ]
  },
  {
   "cell_type": "code",
   "execution_count": 20,
   "metadata": {},
   "outputs": [],
   "source": [
    "pca = PCA(n_components=1)\n",
    "pca.fit(X)\n",
    "X_pca = pca.transform(X)"
   ]
  },
  {
   "cell_type": "code",
   "execution_count": 21,
   "metadata": {},
   "outputs": [
    {
     "data": {
      "text/plain": [
       "(500, 2)"
      ]
     },
     "execution_count": 21,
     "metadata": {},
     "output_type": "execute_result"
    }
   ],
   "source": [
    "X.shape"
   ]
  },
  {
   "cell_type": "code",
   "execution_count": 22,
   "metadata": {},
   "outputs": [
    {
     "data": {
      "text/plain": [
       "(500, 1)"
      ]
     },
     "execution_count": 22,
     "metadata": {},
     "output_type": "execute_result"
    }
   ],
   "source": [
    "X_pca.shape"
   ]
  },
  {
   "cell_type": "code",
   "execution_count": 24,
   "metadata": {},
   "outputs": [
    {
     "data": {
      "image/png": "[encoded data removed]",
      "text/plain": [
       "<Figure size 432x288 with 1 Axes>"
      ]
     },
     "metadata": {},
     "output_type": "display_data"
    }
   ],
   "source": [
    "X_new = pca.inverse_transform(X_pca)\n",
    "plt.scatter(X[:, 0], X[:, 1], alpha=0.2)\n",
    "plt.scatter(X_new[:, 0], X_new[:, 1], alpha=0.8)\n",
    "plt.axis('equal');"
   ]
  }
 ],
 "metadata": {
  "kernelspec": {
   "display_name": "Python 3",
   "language": "python",
   "name": "python3"
  },
  "language_info": {
   "codemirror_mode": {
    "name": "ipython",
    "version": 3
   },
   "file_extension": ".py",
   "mimetype": "text/x-python",
   "name": "python",
   "nbconvert_exporter": "python",
   "pygments_lexer": "ipython3",
   "version": "3.6.4"
  }
 },
 "nbformat": 4,
 "nbformat_minor": 2
}
